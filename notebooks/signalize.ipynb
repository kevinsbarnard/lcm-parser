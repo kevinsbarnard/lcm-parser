{
 "cells": [
  {
   "cell_type": "code",
   "execution_count": 1,
   "id": "87ced827-f043-4bc2-8288-5a4916ae8eaf",
   "metadata": {},
   "outputs": [],
   "source": [
    "import json\n",
    "from pathlib import Path\n",
    "from collections import defaultdict\n",
    "from datetime import datetime, timedelta, timezone\n",
    "from functools import partial\n",
    "\n",
    "from timesignal import EventSignal, EventOrchestra"
   ]
  },
  {
   "cell_type": "code",
   "execution_count": 2,
   "id": "57113ef3-012e-400a-96c1-6eefae2f6b05",
   "metadata": {},
   "outputs": [],
   "source": [
    "def load_json(p: Path):\n",
    "    with p.open('r') as f:\n",
    "        return json.load(f)"
   ]
  },
  {
   "cell_type": "code",
   "execution_count": 3,
   "id": "43d6f6f5-119c-48e2-b430-bb532f9c78ed",
   "metadata": {},
   "outputs": [],
   "source": [
    "TEST_PATH = Path('log_json/lcmlog-2021-05-24.11.json')\n",
    "\n",
    "test_events = load_json(TEST_PATH)"
   ]
  },
  {
   "cell_type": "code",
   "execution_count": 4,
   "id": "5371e022-6eec-4905-bd85-734c0e685c5b",
   "metadata": {},
   "outputs": [
    {
     "data": {
      "text/plain": [
       "{'BOX_LEFT',\n",
       " 'BOX_RIGHT',\n",
       " 'BOX_STEREO',\n",
       " 'BOX_STEREO_TRACK',\n",
       " 'CAM-CFG-50-0503455191',\n",
       " 'CAM-CFG-50-0503455192',\n",
       " 'EXT_TARGET_3',\n",
       " 'ML_CFG',\n",
       " 'MWT_CONTROL_STAT',\n",
       " 'MWT_SEARCH_STAT',\n",
       " 'MWT_TARGET'}"
      ]
     },
     "execution_count": 4,
     "metadata": {},
     "output_type": "execute_result"
    }
   ],
   "source": [
    "channels = set(ev['meta']['channel'] for ev in test_events)\n",
    "channels"
   ]
  },
  {
   "cell_type": "code",
   "execution_count": 5,
   "id": "310907ba-8512-48fb-9e96-85f1efc37ff2",
   "metadata": {},
   "outputs": [],
   "source": [
    "events_by_channel = defaultdict(list)\n",
    "for ev in test_events:\n",
    "    events_by_channel[ev['meta']['channel']].append(ev)"
   ]
  },
  {
   "cell_type": "code",
   "execution_count": 6,
   "id": "d10aba20-4368-4d43-b073-9b725ef8fce9",
   "metadata": {},
   "outputs": [],
   "source": [
    "chosen_channels = (\n",
    "    'ML_CFG',\n",
    "    'MWT_CONTROL_STAT',\n",
    "    'MWT_SEARCH_STAT',\n",
    "    'MWT_TARGET'\n",
    ")\n",
    "\n",
    "assert all(channel in channels for channel in chosen_channels)"
   ]
  },
  {
   "cell_type": "code",
   "execution_count": 7,
   "id": "fddf1bbb-43c2-4dd6-b269-d64802ee0efb",
   "metadata": {},
   "outputs": [
    {
     "name": "stdout",
     "output_type": "stream",
     "text": [
      "ML_CFG\n",
      "{'score_threshold': 37, 'box_deviation': 10, 'reinit_threshold': 1, 'min_reinit_time': 250, 'max_epipolar_error': 5, 'model_name': 'docker run --gpus all -it --rm --network=host --shm-size=1g --ulimit memlock=-1 --ulimit stack=67108864 cvisionai/mbari_tracking:2020.08.11 python lcm_image_sub.py --image_channel $1 --bounding_box_channel $2 --image_width $3 --image_height $4 --model $5 --score_threshold=$6', 'target_class': 'bathochordaeus house', 'tracker_type': 'KCF', 'target_source': 'Best Available', 'box_combiner': 'Box Similarity', 'box_size_from_ml': 1, 'box_padding': 9, 'publish_mwt': 1, 'publish_ext': 1, 'box_size_x': 151, 'box_size_y': 178, 'rate_limit': 0.0, 'min_range': 0.3, 'max_range': 3.5, 'min_alt': -1.0, 'max_alt': 1.0, 'use_world_frame': 1, 'world_frame_timeout': 5}\n",
      "\n",
      "MWT_CONTROL_STAT\n",
      "{'header': {'publisher': 'tensorbook1:mwt_control(7017)', 'timestamp': 1621884313.5102735, 'sequence': 149942}, 'x_control': {'cmd': 0.6276600515990292, 'measure': 0.6160577517161535, 'integral': 1.5605607878368706, 'derivative': -0.0021973349423086382, 'output': -0.8363769740464639, 'kp': 70.0, 'ki': 0.1, 'kd': 60.0, 'tau': 0.1, 'output_scale': -1.0}, 'y_control': {'cmd': 186.528, 'measure': 184.544, 'integral': 0.0, 'derivative': -0.01112460432596554, 'output': -3.0177490629180728, 'kp': 100.0, 'ki': 0.0, 'kd': 40.0, 'tau': 0.5, 'output_scale': -1.0}, 'z_control': {'cmd': -0.08734465299405936, 'measure': -0.05523809216687263, 'integral': 0.0, 'derivative': 0.001992135714323924, 'output': 5.823671451140169, 'kp': 200.0, 'ki': 0.0, 'kd': 300.0, 'tau': 0.1, 'output_scale': -1.0}, 'yaw_control': {'cmd': -0.36738897560384826, 'measure': -1.843944966881645, 'integral': 0.0, 'derivative': 0.027021431006655952, 'output': -3.6579336040508297, 'kp': 100.0, 'ki': 0.0, 'kd': 40.0, 'tau': 0.5, 'output_scale': -1.0}, 'x_traj': {'set_point': 0.6276600515990292, 'goal': 0.6276600515990292, 'slew_rate': 0.05, 'is_moving': False}, 'y_traj': {'set_point': 186.528, 'goal': 186.528, 'slew_rate': 0.017453292519943295, 'is_moving': False}, 'z_traj': {'set_point': -0.08734465299405936, 'goal': -0.08734465299405936, 'slew_rate': 0.1, 'is_moving': False}, 'yaw_traj': {'set_point': -0.36738897560384826, 'goal': -0.36738897560384826, 'slew_rate': 0.017453292519943295, 'is_moving': False}, 'range_filter': {'input': 0.6162339123513056, 'output': 0.6160577517161535, 'tau': 0.3, 'max_rate': 0.0}, 'heading_filter': {'input': 184.544, 'output': 184.544, 'tau': 0.0}, 'z_target_filter': {'input': -0.05523809216687263, 'output': -0.05523809216687263, 'tau': 0.0, 'max_rate': 0.0}, 'bearing_filter': {'input': -1.843944966881645, 'output': -1.843944966881645, 'tau': 0.0, 'max_rate': 0.0}, 'range_gs_filter': {'input': 0.6162339123513056, 'output': 0.616624979863113, 'tau': 4.0}, 'heading_gs_filter': {'input': 184.544, 'output': 184.544, 'tau': 0.0}, 'bearing_gs_filter': {'input': -1.843944966881645, 'output': -1.843944966881645, 'tau': 0.0}, 'x_effort_filter': {'input': -0.8363769740464639, 'output': -0.8363769740464639, 'tau': 0.0, 'max_rate': 75.0}, 'y_effort_filter': {'input': -3.0177490629180728, 'output': -3.0177490629180728, 'tau': 0.0, 'max_rate': 75.0}, 'z_effort_filter': {'input': 5.823671451140169, 'output': 5.823671451140169, 'tau': 0.0, 'max_rate': 75.0}, 'yaw_effort_filter': {'input': -3.6579336040508297, 'output': -3.6579336040508297, 'tau': 0.0, 'max_rate': 75.0}, 'lateral_gs': {'enabled': False, 'kp_in': 100.0, 'ki_in': 0.0, 'kd_in': 40.0, 'kp_out': 100.0, 'ki_out': 0.0, 'kd_out': 40.0}, 'bearing_gs': {'enabled': False, 'kp_in': 100.0, 'ki_in': 0.0, 'kd_in': 40.0, 'kp_out': 100.0, 'ki_out': 0.0, 'kd_out': 40.0}, 'is_pilot_enabled': False, 'control_mode': 3, 'is_x_effort_enabled': True, 'is_y_effort_enabled': True, 'is_z_effort_enabled': True, 'is_yaw_effort_enabled': True, 'control_exec_ms': 0.15020370483398438, 'other_exec_ms': 0.26726722717285156, 'percent_idle': 99.99523794651031, 'missed_updates': 0, 'proc_req_max': 7}\n",
      "\n",
      "MWT_SEARCH_STAT\n",
      "{'header': {'publisher': 'tensorbook1:mwt_control(7017)', 'timestamp': 1621884313.510352, 'sequence': 149942}, 'x_mode': 1, 'x_effort_cmd': 20.0, 'x_output': -0.8363769740464639, 'y_mode': 1, 'y_effort_cmd': 0.0, 'y_output': -3.0177490629180728, 'z_mode': 2, 'z_set_point': 244.5, 'z_goal': 244.5, 'z_moving': False, 'z_effort_cmd': 0.0, 'z_output': 5.823671451140169, 'yaw_mode': 2, 'yaw_set_point': 187.037, 'yaw_goal': 187.037, 'yaw_moving': False, 'yaw_effort_cmd': 0.0, 'yaw_output': -3.6579336040508297, 'control_mode': 3}\n",
      "\n",
      "MWT_TARGET\n",
      "{'header': {'publisher': '', 'timestamp': 0.0, 'sequence': 0}, 'range_meters': 0.6162339123513056, 'bearing_degrees': -1.843944966881645, 'z_meters': -0.05523809216687263, 'range_valid': True, 'bearing_valid': True, 'z_valid': True, 'left_pix_x': 502.37777582083186, 'left_pix_y': 331.1479860569009, 'right_pix_x': 463.79894424864915, 'right_pix_y': 318.84339803289316}\n",
      "\n"
     ]
    }
   ],
   "source": [
    "for channel in chosen_channels:\n",
    "    channel_events = events_by_channel[channel]\n",
    "    print(channel)\n",
    "    print(channel_events[0]['event'])\n",
    "    print()"
   ]
  },
  {
   "cell_type": "code",
   "execution_count": 8,
   "id": "8a1eca79-ec02-42bd-949c-13778e1e28f3",
   "metadata": {},
   "outputs": [],
   "source": [
    "tz = timezone(timedelta(hours=-8))\n",
    "\n",
    "def get_datetime(ev: dict) -> datetime:\n",
    "    return datetime.fromtimestamp(ev['meta']['timestamp'] / 1e6, tz=tz).astimezone(tz=timezone.utc)"
   ]
  },
  {
   "cell_type": "code",
   "execution_count": 13,
   "id": "109f2ffc-da8c-4734-b2f9-8dfc74aca462",
   "metadata": {},
   "outputs": [],
   "source": [
    "def event_to_value(ev, indices) -> tuple:\n",
    "    v = ev['event']\n",
    "    try:\n",
    "        for index in indices:\n",
    "            v = v[index]\n",
    "        v = float(v)\n",
    "    except:\n",
    "        v = None\n",
    "    return get_datetime(ev), v"
   ]
  },
  {
   "cell_type": "code",
   "execution_count": 10,
   "id": "92d3d6de-5063-43da-afc1-0921f3b23e2a",
   "metadata": {},
   "outputs": [],
   "source": [
    "def signal_from_events(events, indices, interpolation='nearest') -> EventSignal:\n",
    "    return EventSignal(map(partial(event_to_value, indices=indices), events), interpolation=interpolation)"
   ]
  },
  {
   "cell_type": "code",
   "execution_count": 11,
   "id": "d5e63fc8-d1ce-441d-97da-23ccbdd0dcaf",
   "metadata": {},
   "outputs": [],
   "source": [
    "mwt_search_stat_events = events_by_channel['MWT_SEARCH_STAT']\n",
    "mwt_search_stat_orchestra = EventOrchestra({\n",
    "    'x_mode': signal_from_events(mwt_search_stat_events, ('x_mode',)),\n",
    "    'x_effort_cmd': signal_from_events(mwt_search_stat_events, ('x_effort_cmd',)),\n",
    "    'y_mode': signal_from_events(mwt_search_stat_events, ('y_mode',)),\n",
    "    'y_effort_cmd': signal_from_events(mwt_search_stat_events, ('y_effort_cmd',)),\n",
    "    'z_mode': signal_from_events(mwt_search_stat_events, ('z_mode',)),\n",
    "    'z_effort_cmd': signal_from_events(mwt_search_stat_events, ('z_effort_cmd',))\n",
    "})"
   ]
  },
  {
   "cell_type": "code",
   "execution_count": 37,
   "id": "0271e919-b05c-4449-b0af-93739a58114b",
   "metadata": {},
   "outputs": [],
   "source": [
    "mwt_target_events = events_by_channel['MWT_TARGET']\n",
    "mwt_target_orchestra = EventOrchestra({\n",
    "    'range_meters': signal_from_events(mwt_target_events, ('range_meters',), interpolation='quadratic'),\n",
    "    'range_valid': signal_from_events(mwt_target_events, ('range_valid',)),\n",
    "    'bearing_degrees': signal_from_events(mwt_target_events, ('bearing_degrees',), interpolation='quadratic'),\n",
    "    'bearing_valid': signal_from_events(mwt_target_events, ('bearing_valid',)),\n",
    "    'z_meters': signal_from_events(mwt_target_events, ('z_meters',), interpolation='quadratic'),\n",
    "    'z_valid': signal_from_events(mwt_target_events, ('z_valid',)),\n",
    "})"
   ]
  },
  {
   "cell_type": "code",
   "execution_count": 38,
   "id": "de55e9b4-7211-4c5b-9c2f-6d85133d1a4d",
   "metadata": {},
   "outputs": [],
   "source": [
    "root_orchestra = EventOrchestra({\n",
    "    'mwt_search_stat': mwt_search_stat_orchestra,\n",
    "    'mwt_target': mwt_target_orchestra,\n",
    "})"
   ]
  },
  {
   "cell_type": "code",
   "execution_count": 75,
   "id": "eea85295-8608-41d4-8fa0-6f5bc1da4fae",
   "metadata": {},
   "outputs": [
    {
     "name": "stdout",
     "output_type": "stream",
     "text": [
      "0.42 ms\n"
     ]
    }
   ],
   "source": [
    "import random\n",
    "from timeit import timeit\n",
    "\n",
    "N = 1000\n",
    "elapsed_time = timeit(lambda: root_orchestra[root_orchestra.start + timedelta(milliseconds=random.randint(0, 10000))], number=N)\n",
    "\n",
    "print(round(elapsed_time / N * 1e3, 2), 'ms')"
   ]
  },
  {
   "cell_type": "code",
   "execution_count": null,
   "id": "aa2ba83a-7048-48d1-bf0a-19851081b8c2",
   "metadata": {},
   "outputs": [],
   "source": []
  },
  {
   "cell_type": "code",
   "execution_count": null,
   "id": "01966987-07e4-47b0-8aab-16ecae3ed1f4",
   "metadata": {},
   "outputs": [],
   "source": []
  }
 ],
 "metadata": {
  "kernelspec": {
   "display_name": "Python 3 (ipykernel)",
   "language": "python",
   "name": "python3"
  },
  "language_info": {
   "codemirror_mode": {
    "name": "ipython",
    "version": 3
   },
   "file_extension": ".py",
   "mimetype": "text/x-python",
   "name": "python",
   "nbconvert_exporter": "python",
   "pygments_lexer": "ipython3",
   "version": "3.9.7"
  }
 },
 "nbformat": 4,
 "nbformat_minor": 5
}

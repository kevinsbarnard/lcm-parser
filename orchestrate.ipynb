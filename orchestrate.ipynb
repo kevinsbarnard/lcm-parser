{
 "cells": [
  {
   "cell_type": "markdown",
   "metadata": {},
   "source": [
    "# Orchestrate\n",
    "\n",
    "Convert a collection of `ParsedEvent` objects into an `EventOrchestra` containing relevant ML-Tracking analysis data.\n",
    "\n",
    "*Hope you have some memory to spare...*"
   ]
  },
  {
   "cell_type": "markdown",
   "metadata": {},
   "source": [
    "## Setup"
   ]
  },
  {
   "cell_type": "code",
   "execution_count": null,
   "metadata": {},
   "outputs": [],
   "source": [
    "import json\n",
    "import pickle\n",
    "from collections import defaultdict\n",
    "from pathlib import Path\n",
    "from datetime import datetime\n",
    "from typing import Optional, Tuple\n",
    "\n",
    "import progressbar\n",
    "from timesignal import EventOrchestra, EventSignal\n",
    "\n",
    "from lib.parse import parse_tracks\n",
    "from lib.models import ParsedEvent\n",
    "from lib.timestamp import lcm_timestamp_to_seconds, pdt_timestamp_seconds_to_utc_datetime"
   ]
  },
  {
   "cell_type": "code",
   "execution_count": null,
   "metadata": {},
   "outputs": [],
   "source": [
    "# INPUT: Where the ParsedEvent files are stored\n",
    "JSON_DIR = Path('data/json/parsed_lcm/')\n",
    "JSON_FILES = list(JSON_DIR.glob('*.json'))\n",
    "\n",
    "# OUTPUT: Where to write the orchestra\n",
    "ORCHESTRA_FILE = Path('data/pickle/orchestra.pkl')"
   ]
  },
  {
   "cell_type": "code",
   "execution_count": null,
   "metadata": {},
   "outputs": [],
   "source": [
    "def get_extractor(*keys: str, map: Optional[dict] = None):\n",
    "    \"\"\"\n",
    "    Get a function that extracts signal values from a parsed event given a sequence of keys.\n",
    "    Optionally, remap the extracted value to a new value using a given map.\n",
    "    \"\"\"\n",
    "    def extract(ev: ParsedEvent) -> Tuple[datetime, float]:\n",
    "        v = ev.event\n",
    "        for k in keys:\n",
    "            v = v[k]\n",
    "        if map is not None:\n",
    "            v = map[v]\n",
    "        pdt_timestamp_seconds = lcm_timestamp_to_seconds(ev.meta.timestamp)\n",
    "        return pdt_timestamp_seconds_to_utc_datetime(pdt_timestamp_seconds), float(v)\n",
    "    return extract"
   ]
  },
  {
   "cell_type": "markdown",
   "metadata": {},
   "source": [
    "## Specify `ParsedEvent` extraction for non-track events"
   ]
  },
  {
   "cell_type": "code",
   "execution_count": null,
   "metadata": {},
   "outputs": [],
   "source": [
    "BASIC_EXTRACTOR_SPEC = {\n",
    "    'SUPERVISOR_CFG': {\n",
    "        'search_timeout': get_extractor('search_timeout'),\n",
    "        'acquire_timeout': get_extractor('acquire_timeout'),\n",
    "        'track_timeout': get_extractor('track_timeout'),\n",
    "        'track_duration': get_extractor('track_duration'),\n",
    "        'state_number': get_extractor('state_number'),\n",
    "    },\n",
    "    'MWT_CONTROL_STAT': {\n",
    "        'x_enabled': get_extractor('is_x_effort_enabled'),\n",
    "        'x_setpoint': get_extractor('x_traj', 'set_point'),\n",
    "        'x_cmd': get_extractor('x_control', 'cmd'),\n",
    "        'x_measure': get_extractor('x_control', 'measure'),\n",
    "        'y_enabled': get_extractor('is_y_effort_enabled'),\n",
    "        'y_setpoint': get_extractor('y_traj', 'set_point'),\n",
    "        'y_cmd': get_extractor('y_control', 'cmd'),\n",
    "        'y_measure': get_extractor('y_control', 'measure'),\n",
    "        'z_enabled': get_extractor('is_z_effort_enabled'),\n",
    "        'z_setpoint': get_extractor('z_traj', 'set_point'),\n",
    "        'z_cmd': get_extractor('z_control', 'cmd'),\n",
    "        'z_measure': get_extractor('z_control', 'measure'),\n",
    "        'yaw_cmd': get_extractor('yaw_control', 'cmd'),\n",
    "        'yaw_measure': get_extractor('yaw_control', 'measure'),\n",
    "        'pilot_enabled': get_extractor('is_pilot_enabled'),\n",
    "    },\n",
    "    'MWT_SEARCH_STAT': {\n",
    "        'x_mode': get_extractor('x_mode'),\n",
    "        'x_effort_cmd': get_extractor('x_effort_cmd'),\n",
    "        'y_mode': get_extractor('y_mode'),\n",
    "        'y_effort_cmd': get_extractor('y_effort_cmd'),\n",
    "        'z_mode': get_extractor('z_mode'),\n",
    "        'z_effort_cmd': get_extractor('z_effort_cmd'),\n",
    "        'yaw_mode': get_extractor('yaw_mode'),\n",
    "        'yaw_effort_cmd': get_extractor('yaw_effort_cmd'),\n",
    "        'control_mode': get_extractor('control_mode'),\n",
    "    }\n",
    "}"
   ]
  },
  {
   "cell_type": "markdown",
   "metadata": {},
   "source": [
    "## Read events from JSON files\n",
    "\n",
    "This looks in the `data/json/parsed_lcm` directory for JSON files. These are assumed to be collections of `ParsedEvent` objects."
   ]
  },
  {
   "cell_type": "code",
   "execution_count": null,
   "metadata": {},
   "outputs": [],
   "source": [
    "# Load the events into memory and parse into Python dicts\n",
    "ALL_EVENTS = []\n",
    "for json_file in JSON_FILES:\n",
    "    with json_file.open('r') as f:\n",
    "        events = json.load(f)\n",
    "        ALL_EVENTS.extend(events)"
   ]
  },
  {
   "cell_type": "code",
   "execution_count": null,
   "metadata": {},
   "outputs": [],
   "source": [
    "# Parse Python dicts into ParsedEvent objects, overwriting the dicts as we go.\n",
    "# This takes some time... consider just working with dicts.\n",
    "for idx in range(len(ALL_EVENTS)):\n",
    "    ALL_EVENTS[idx] = ParsedEvent.from_dict(ALL_EVENTS[idx])"
   ]
  },
  {
   "cell_type": "code",
   "execution_count": null,
   "metadata": {},
   "outputs": [],
   "source": [
    "# Key events by channel\n",
    "EVENTS_BY_CHANNEL = defaultdict(list)\n",
    "for event in progressbar.progressbar(ALL_EVENTS, max=len(ALL_EVENTS)):\n",
    "    EVENTS_BY_CHANNEL[event.meta.channel].append(event)"
   ]
  },
  {
   "cell_type": "markdown",
   "metadata": {},
   "source": [
    "## Extract non-track sub-orchestras"
   ]
  },
  {
   "cell_type": "code",
   "execution_count": null,
   "metadata": {},
   "outputs": [],
   "source": [
    "def make_event_orchestra(channel: str) -> EventOrchestra:\n",
    "    \"\"\"\n",
    "    Map an extractor across the EVENTS_BY_CHANNEL for a given channel to create an EventOrchestra.\n",
    "    \"\"\"\n",
    "    return EventOrchestra({\n",
    "        key: EventSignal(map(extractor, EVENTS_BY_CHANNEL[channel]), interpolation='nearest')\n",
    "        for key, extractor in BASIC_EXTRACTOR_SPEC[channel].items()\n",
    "    })"
   ]
  },
  {
   "cell_type": "code",
   "execution_count": null,
   "metadata": {},
   "outputs": [],
   "source": [
    "# Create basic supervisor/control/search orchestras\n",
    "supervisor_config_eo = make_event_orchestra('SUPERVISOR_CFG')\n",
    "control_status_eo = make_event_orchestra('MWT_CONTROL_STAT')\n",
    "search_status_eo = make_event_orchestra('MWT_SEARCH_STAT')"
   ]
  },
  {
   "cell_type": "markdown",
   "metadata": {},
   "source": [
    "## Extract tracks and generate track sub-orchestras"
   ]
  },
  {
   "cell_type": "code",
   "execution_count": null,
   "metadata": {},
   "outputs": [],
   "source": [
    "# Parse Track objects from the BOX_STEREO_TRACK channel events\n",
    "track_dict = parse_tracks(ALL_EVENTS)"
   ]
  },
  {
   "cell_type": "code",
   "execution_count": null,
   "metadata": {},
   "outputs": [],
   "source": [
    "# Convert Track objects into EventOrchestra objects and compose into single EventOrchestra, keyed by track ID\n",
    "tracks_orchestra = EventOrchestra({\n",
    "    str(track_id): track.to_event_orchestra()\n",
    "    for track_id, track in track_dict.items()\n",
    "})"
   ]
  },
  {
   "cell_type": "markdown",
   "metadata": {},
   "source": [
    "## Compose all sub-orchestras into single orchestra"
   ]
  },
  {
   "cell_type": "code",
   "execution_count": null,
   "metadata": {},
   "outputs": [],
   "source": [
    "root_orchestra = EventOrchestra({\n",
    "    'supervisor': supervisor_config_eo,\n",
    "    'control': control_status_eo,\n",
    "    'search': search_status_eo,\n",
    "    'tracks': tracks_orchestra,\n",
    "})"
   ]
  },
  {
   "cell_type": "markdown",
   "metadata": {},
   "source": [
    "## Write orchestra"
   ]
  },
  {
   "cell_type": "code",
   "execution_count": null,
   "metadata": {},
   "outputs": [],
   "source": [
    "# Pickle the root orchestra\n",
    "with ORCHESTRA_FILE.open('wb') as f:\n",
    "    pickle.dump(root_orchestra, f)"
   ]
  }
 ],
 "metadata": {
  "language_info": {
   "name": "python"
  },
  "orig_nbformat": 4
 },
 "nbformat": 4,
 "nbformat_minor": 2
}
